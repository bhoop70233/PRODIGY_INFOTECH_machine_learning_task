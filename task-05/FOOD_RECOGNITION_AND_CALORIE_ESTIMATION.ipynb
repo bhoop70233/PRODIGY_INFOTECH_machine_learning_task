{
  "nbformat": 4,
  "nbformat_minor": 0,
  "metadata": {
    "colab": {
      "provenance": []
    },
    "kernelspec": {
      "name": "python3",
      "display_name": "Python 3"
    },
    "language_info": {
      "name": "python"
    }
  },
  "cells": [
    {
      "cell_type": "code",
      "execution_count": null,
      "metadata": {
        "id": "U0BUK2MHMh4x"
      },
      "outputs": [],
      "source": [
        "import keras\n",
        "keras.__version__"
      ]
    },
    {
      "cell_type": "code",
      "source": [
        "import matplotlib.pyplot as plt\n",
        "import pandas as pd\n",
        "import seaborn as sn\n",
        "import numpy as np\n",
        "from keras.preprocessing.image import ImageDataGenerator\n",
        "from tensorflow.keras.applications import vgg16\n",
        "from keras.src.layers.pooling.average_pooling2d import AvgPool2D\n",
        "from tensorflow.keras.layers import Conv2D,MaxPooling2D,Dropout\n",
        "from keras.models import Sequential\n",
        "from keras.layers import Dense,Input,Flatten\n",
        "from tensorflow.keras.utils import load_img,img_to_array\n",
        "from sklearn.metrics import confusion_matrix\n",
        "from keras.preprocessing.image import ImageDataGenerator\n",
        "from sklearn.model_selection import train_test_split"
      ],
      "metadata": {
        "id": "v92RW_aDMnqx"
      },
      "execution_count": null,
      "outputs": []
    },
    {
      "cell_type": "markdown",
      "source": [
        "Loading Dataset from Kaggle\n"
      ],
      "metadata": {
        "id": "quL3f3FCMwib"
      }
    },
    {
      "cell_type": "code",
      "source": [
        "from google.colab import files\n",
        "\n",
        "files.upload()"
      ],
      "metadata": {
        "id": "tSw30zBUMu3i"
      },
      "execution_count": null,
      "outputs": []
    },
    {
      "cell_type": "code",
      "source": [
        "!pip install kaggle\n",
        "\n",
        "!mkdir ~/.kaggle\n",
        "\n",
        "!mv kaggle.json ~/.kaggle/\n",
        "\n",
        "!chmod 600 ~/.kaggle/kaggle.json"
      ],
      "metadata": {
        "id": "V4FCN3goM7Co"
      },
      "execution_count": null,
      "outputs": []
    },
    {
      "cell_type": "code",
      "source": [
        "!kaggle datasets download dansbecker/food-101\n"
      ],
      "metadata": {
        "id": "nyYjHwilNCQx"
      },
      "execution_count": null,
      "outputs": []
    },
    {
      "cell_type": "code",
      "source": [
        "!unzip food-101.zip\n"
      ],
      "metadata": {
        "id": "_JidMguJNy8f"
      },
      "execution_count": null,
      "outputs": []
    },
    {
      "cell_type": "markdown",
      "source": [
        "Classes & Calories\n"
      ],
      "metadata": {
        "id": "LioQ5avbQhhw"
      }
    },
    {
      "cell_type": "code",
      "source": [
        "import os\n",
        "print(os.listdir(\"/content/food-101/food-101/images/\"))"
      ],
      "metadata": {
        "id": "5WGjBLagPStP"
      },
      "execution_count": null,
      "outputs": []
    },
    {
      "cell_type": "code",
      "source": [
        "values = ['macarons', 'french_toast', 'lobster_bisque', 'prime_rib', 'pork_chop', 'guacamole', 'baby_back_ribs', 'mussels', 'beef_carpaccio', 'poutine', 'hot_and_sour_soup', 'seaweed_salad', 'foie_gras', 'dumplings', 'peking_duck', 'takoyaki', 'bibimbap', 'falafel', 'pulled_pork_sandwich', 'lobster_roll_sandwich', 'carrot_cake', 'beet_salad', 'panna_cotta', 'donuts', 'red_velvet_cake', 'grilled_cheese_sandwich', 'cannoli', 'spring_rolls', 'shrimp_and_grits', 'clam_chowder', 'omelette', 'fried_calamari', 'caprese_salad', 'oysters', 'scallops', 'ramen', 'grilled_salmon', 'croque_madame', 'filet_mignon', 'hamburger', 'spaghetti_carbonara', 'miso_soup', 'bread_pudding', 'lasagna', 'crab_cakes', 'cheesecake', 'spaghetti_bolognese', 'cup_cakes', 'creme_brulee', 'waffles', 'fish_and_chips', 'paella', 'macaroni_and_cheese', 'chocolate_mousse', 'ravioli', 'chicken_curry', 'caesar_salad', 'nachos', 'tiramisu', 'frozen_yogurt', 'ice_cream', 'risotto', 'club_sandwich', 'strawberry_shortcake', 'steak', 'churros', 'garlic_bread', 'baklava', 'bruschetta', 'hummus', 'chicken_wings', 'greek_salad', 'tuna_tartare', 'chocolate_cake', 'gyoza', 'eggs_benedict', 'deviled_eggs', 'samosa', 'sushi', 'breakfast_burrito', 'ceviche', 'beef_tartare', 'apple_pie', '.DS_Store', 'huevos_rancheros', 'beignets', 'pizza', 'edamame', 'french_onion_soup', 'hot_dog', 'tacos', 'chicken_quesadilla', 'pho', 'gnocchi', 'pancakes', 'fried_rice', 'cheese_plate', 'onion_rings', 'escargots', 'sashimi', 'pad_thai', 'french_fries']\n",
        "values.sort()\n",
        "values = values[1:]\n",
        "print(values)"
      ],
      "metadata": {
        "id": "6rnrOiMyQmFj"
      },
      "execution_count": null,
      "outputs": []
    },
    {
      "cell_type": "code",
      "source": [
        "print(\"Number of classes:\",len(values))\n"
      ],
      "metadata": {
        "id": "N8XHFwrlQpy2"
      },
      "execution_count": null,
      "outputs": []
    },
    {
      "cell_type": "code",
      "source": [
        "s = \"\"\"Apple Pie: ~2.5 calories per gram\n",
        "Baby Back Ribs: ~3.5 calories per gram\n",
        "Baklava: ~5 calories per gram\n",
        "Beef Carpaccio: ~2 calories per gram\n",
        "Beef Tartare: ~2.5 calories per gram\n",
        "Beet Salad: ~0.5 calories per gram\n",
        "Beignets: ~3.5 calories per gram\n",
        "Bibimbap: ~1.5 calories per gram\n",
        "Bread Pudding: ~2.5 calories per gram\n",
        "Breakfast Burrito: ~2 calories per gram\n",
        "Bruschetta: ~1 calorie per gram\n",
        "Caesar Salad: ~0.5 calories per gram\n",
        "Cannoli: ~3.5 calories per gram\n",
        "Caprese Salad: ~1 calorie per gram\n",
        "Carrot Cake: ~3.5 calories per gram\n",
        "Ceviche: ~0.5 calories per gram\n",
        "Cheese Plate: ~3.5 calories per gram\n",
        "Cheesecake: ~3.5 calories per gram\n",
        "Chicken Curry: ~1.5 calories per gram\n",
        "Chicken Quesadilla: ~2.5 calories per gram\n",
        "Chicken Wings: ~3 calories per gram\n",
        "Chocolate Cake: ~4 calories per gram\n",
        "Chocolate Mousse: ~3 calories per gram\n",
        "Churros: ~4 calories per gram\n",
        "Clam Chowder: ~1.5 calories per gram\n",
        "Club Sandwich: ~2.5 calories per gram\n",
        "Crab Cakes: ~2 calories per gram\n",
        "Creme Brulee: ~3.5 calories per gram\n",
        "Croque Madame: ~3 calories per gram\n",
        "Cupcakes: ~3.5 calories per gram\n",
        "Deviled Eggs: ~1 calorie per gram\n",
        "Donuts: ~4 calories per gram\n",
        "Dumplings: ~2.5 calories per gram\n",
        "Edamame: ~1 calorie per gram\n",
        "Eggs Benedict: ~2.5 calories per gram\n",
        "Escargots: ~1 calorie per gram\n",
        "Falafel: ~2 calories per gram\n",
        "Filet Mignon: ~2.5 calories per gram\n",
        "Fish and Chips: ~2.5 calories per gram\n",
        "Foie Gras: ~4.5 calories per gram\n",
        "French Fries: ~3.5 calories per gram\n",
        "French Onion Soup: ~1 calorie per gram\n",
        "French Toast: ~2 calories per gram\n",
        "Fried Calamari: ~2.5 calories per gram\n",
        "Fried Rice: ~1.5 calories per gram\n",
        "Frozen Yogurt: ~1 calorie per gram\n",
        "Garlic Bread: ~4 calories per gram\n",
        "Gnocchi: ~1.5 calories per gram\n",
        "Greek Salad: ~0.5 calories per gram\n",
        "Grilled Cheese Sandwich: ~3 calories per gram\n",
        "Grilled Salmon: ~2 calories per gram\n",
        "Guacamole: ~2 calories per gram\n",
        "Gyoza: ~2 calories per gram\n",
        "Hamburger: ~3.5 calories per gram\n",
        "Hot and Sour Soup: ~0.5 calories per gram\n",
        "Hot Dog: ~3.5 calories per gram\n",
        "Huevos Rancheros: ~2 calories per gram\n",
        "Hummus: ~1.5 calories per gram\n",
        "Ice Cream: ~2 calories per gram\n",
        "Lasagna: ~1.5 calories per gram\n",
        "Lobster Bisque: ~1 calorie per gram\n",
        "Lobster Roll Sandwich: ~2.5 calories per gram\n",
        "Macaroni and Cheese: ~3 calories per gram\n",
        "Macarons: ~4 calories per gram\n",
        "Miso Soup: ~0.5 calories per gram\n",
        "Mussels: ~0.5 calories per gram\n",
        "Nachos: ~2.5 calories per gram\n",
        "Omelette: ~1.5 calories per gram\n",
        "Onion Rings: ~2.5 calories per gram\n",
        "Oysters: ~0.5 calories per gram\n",
        "Pad Thai: ~2 calories per gram\n",
        "Paella: ~1.5 calories per gram\n",
        "Pancakes: ~2 calories per gram\n",
        "Panna Cotta: ~3.5 calories per gram\n",
        "Peking Duck: ~4 calories per gram\n",
        "Pho: ~1 calorie per gram\n",
        "Pizza: ~2.5 calories per gram\n",
        "Pork Chop: ~2.5 calories per gram\n",
        "Poutine: ~2.5 calories per gram\n",
        "Prime Rib: ~2.5 calories per gram\n",
        "Pulled Pork Sandwich: ~2.5 calories per gram\n",
        "Ramen: ~1 calorie per gram\n",
        "Ravioli: ~1.5 calories per gram\n",
        "Red Velvet Cake: ~4 calories per gram\n",
        "Risotto: ~1.5 calories per gram\n",
        "Samosa: ~2 calories per gram\n",
        "Sashimi: ~1 calorie per gram\n",
        "Scallops: ~1 calorie per gram\n",
        "Seaweed Salad: ~0.5 calories per gram\n",
        "Shrimp and Grits: ~2 calories per gram\n",
        "Spaghetti Bolognese: ~1.5 calories per gram\n",
        "Spaghetti Carbonara: ~2 calories per gram\n",
        "Spring Rolls: ~1.5 calories per gram\n",
        "Steak: ~2.5 calories per gram\n",
        "Strawberry Shortcake: ~3.5 calories per gram\n",
        "Sushi: ~1 calorie per gram\n",
        "Tacos: ~2 calories per gram\n",
        "Takoyaki: ~2.5 calories per gram\n",
        "Tiramisu: ~3 calories per gram\n",
        "Tuna Tartare: ~1.5 calories per gram\n",
        "Waffles: ~2 calories per gram\n",
        "\"\"\"\n",
        "calories = s.splitlines()\n",
        "s = \"These values are approximations and can vary based on factors such as ingredients and cooking methods.\"\n",
        ""
      ],
      "metadata": {
        "id": "yPPOFhKwQsjF"
      },
      "execution_count": null,
      "outputs": []
    },
    {
      "cell_type": "code",
      "source": [
        "len(calories)\n"
      ],
      "metadata": {
        "id": "Rhm3bfyHQyIT"
      },
      "execution_count": null,
      "outputs": []
    },
    {
      "cell_type": "code",
      "source": [
        "calories[0]\n"
      ],
      "metadata": {
        "id": "BS8PgvowQz-C"
      },
      "execution_count": null,
      "outputs": []
    },
    {
      "cell_type": "code",
      "source": [
        "print(\"First element:\",values[0],\"\\nLast element:\",values[-1])\n"
      ],
      "metadata": {
        "id": "MJFx3BMQQ2ZM"
      },
      "execution_count": null,
      "outputs": []
    },
    {
      "cell_type": "code",
      "source": [
        "train_datagen = ImageDataGenerator(rescale=1./255,validation_split=0.1)\n",
        "train_data = train_datagen.flow_from_directory('/content/food-101/food-101/images',\n",
        "                                               target_size=(224,224),\n",
        "                                               batch_size=100,\n",
        "                                               class_mode='categorical',\n",
        "                                               shuffle=True,\n",
        "                                               subset='training')\n",
        "test_data = train_datagen.flow_from_directory('/content/food-101/food-101/images',\n",
        "                                               target_size=(224,224),\n",
        "                                               batch_size=100,\n",
        "                                               class_mode='categorical',\n",
        "                                               shuffle=False,\n",
        "                                               subset='validation')"
      ],
      "metadata": {
        "id": "vnP4yM5cQ4Td"
      },
      "execution_count": null,
      "outputs": []
    },
    {
      "cell_type": "code",
      "source": [
        "print(\"Images Shape:\",train_data.image_shape)\n",
        "\n"
      ],
      "metadata": {
        "id": "tueXx-7DQ8rA"
      },
      "execution_count": null,
      "outputs": []
    },
    {
      "cell_type": "code",
      "source": [
        "print('\\nBatch Size:',100,\n",
        "     \"\\nNunmber of Batches in training set:\",len(train_data),\n",
        "     \"\\nNunmber of Batches in testing set:\",len(test_data),\n",
        "     \"\\nNumber of Samples in training set:\",train_data.samples,\"Samples\",\n",
        "     \"\\nNumber of Samples in testing set:\",test_data.samples,\"Samples\")"
      ],
      "metadata": {
        "id": "EjmDXCvDRAEb"
      },
      "execution_count": null,
      "outputs": []
    },
    {
      "cell_type": "code",
      "source": [
        "print(\"\\nThe 101 Classes numbers:\\n\",np.unique(train_data.labels),\"\\n\",\n",
        "       \"_\"*30,\n",
        "       \"\\nThe 101 classes names:\\n\",train_data.class_indices,\n",
        "      sep=\"\")"
      ],
      "metadata": {
        "id": "COE4ckszRCka"
      },
      "execution_count": null,
      "outputs": []
    },
    {
      "cell_type": "code",
      "source": [
        "train_data.image_shape\n"
      ],
      "metadata": {
        "id": "2LY-Xl9qRGG-"
      },
      "execution_count": null,
      "outputs": []
    },
    {
      "cell_type": "code",
      "source": [
        "np.unique(train_data.labels)\n"
      ],
      "metadata": {
        "id": "g9SyV3lDRI5L"
      },
      "execution_count": null,
      "outputs": []
    },
    {
      "cell_type": "code",
      "source": [
        "np.unique(test_data.labels)\n"
      ],
      "metadata": {
        "id": "BLotv3NMRLBw"
      },
      "execution_count": null,
      "outputs": []
    },
    {
      "cell_type": "code",
      "source": [
        "train_data.class_indices\n"
      ],
      "metadata": {
        "id": "V1HaguneRNO2"
      },
      "execution_count": null,
      "outputs": []
    },
    {
      "cell_type": "code",
      "source": [
        "from tensorflow.keras.applications.densenet import DenseNet121, DenseNet169, DenseNet201\n",
        "new_input = Input(shape=(224, 224, 3))\n",
        "base_model = DenseNet201(weights='imagenet', include_top=False, input_tensor=new_input)\n",
        "# base_model.summary()"
      ],
      "metadata": {
        "id": "YK2v2WYpRPPg"
      },
      "execution_count": null,
      "outputs": []
    },
    {
      "cell_type": "code",
      "source": [
        "for layer in base_model.layers[:]:\n",
        "  layer.trainable = False\n",
        "# vgg16_model.summary()"
      ],
      "metadata": {
        "id": "tzAVv1cURSSH"
      },
      "execution_count": null,
      "outputs": []
    },
    {
      "cell_type": "code",
      "source": [
        "model = Sequential()\n",
        "model.add(base_model)\n",
        "model.add(Flatten())\n",
        "model.add(Dense(1000, activation='relu'))\n",
        "model.add(Dense(1000, activation='relu'))\n",
        "# model.add(Dropout(0.25))\n",
        "model.add(Dense(101, activation='softmax'))\n",
        "model.summary()"
      ],
      "metadata": {
        "id": "lB_01_N8RaY2"
      },
      "execution_count": null,
      "outputs": []
    },
    {
      "cell_type": "code",
      "source": [
        "len(test_data)\n"
      ],
      "metadata": {
        "id": "dvbH5YR6Rcyi"
      },
      "execution_count": null,
      "outputs": []
    },
    {
      "cell_type": "code",
      "source": [
        "\n",
        "import tensorflow as tf\n",
        "gpu_options = tf.compat.v1.GPUOptions(allow_growth=True)\n",
        "session = tf.compat.v1.InteractiveSession(config=tf.compat.v1.ConfigProto(gpu_options=gpu_options))"
      ],
      "metadata": {
        "id": "Jz1CEgfbRhYm"
      },
      "execution_count": null,
      "outputs": []
    },
    {
      "cell_type": "code",
      "source": [
        "from keras.optimizers import Adam\n",
        "model.compile(loss='categorical_crossentropy',optimizer=Adam(learning_rate=0.001), metrics=['accuracy'])\n",
        "from tensorflow.keras.callbacks import EarlyStopping\n",
        "results = model.fit(train_data, epochs=3, validation_data=test_data,\n",
        "                  steps_per_epoch=len(train_data), validation_steps=len(test_data),\n",
        "                  callbacks = [EarlyStopping(patience=5, monitor='val_accuracy',restore_best_weights=True)] )"
      ],
      "metadata": {
        "id": "tqiAROD0RkLs"
      },
      "execution_count": null,
      "outputs": []
    },
    {
      "cell_type": "code",
      "source": [
        "from google.colab import drive\n",
        "drive.mount('/content/drive')"
      ],
      "metadata": {
        "id": "ZyCtNkrlRnyf"
      },
      "execution_count": null,
      "outputs": []
    },
    {
      "cell_type": "code",
      "source": [
        "loss , acc = model.evaluate(test_data)\n"
      ],
      "metadata": {
        "id": "w_TJNpgXWQSi"
      },
      "execution_count": null,
      "outputs": []
    },
    {
      "cell_type": "code",
      "source": [
        "print(\"Test accuracy:\", round(acc,4)*100,'%', \"\\nLoss value:\",loss)\n"
      ],
      "metadata": {
        "id": "5hMzUWmgWSJc"
      },
      "execution_count": null,
      "outputs": []
    },
    {
      "cell_type": "code",
      "source": [
        "results.history['val_accuracy']\n"
      ],
      "metadata": {
        "id": "gYahEEHrWT9G"
      },
      "execution_count": null,
      "outputs": []
    },
    {
      "cell_type": "code",
      "source": [
        "results.history['val_loss']\n"
      ],
      "metadata": {
        "id": "mzj2DuofWV6F"
      },
      "execution_count": null,
      "outputs": []
    },
    {
      "cell_type": "code",
      "source": [
        "i = results.history['val_loss'].index(2.199629068374634)\n",
        "i"
      ],
      "metadata": {
        "id": "RItAr3frWX0O"
      },
      "execution_count": null,
      "outputs": []
    },
    {
      "cell_type": "code",
      "source": [
        "results.history['val_accuracy'][i]\n"
      ],
      "metadata": {
        "id": "MsdhZwMiWaH_"
      },
      "execution_count": null,
      "outputs": []
    },
    {
      "cell_type": "code",
      "source": [
        "\n",
        "fig = plt.figure()\n",
        "plt.plot(results.history['accuracy'], c='blue', label='accuracy')\n",
        "plt.plot(results.history['loss'], c='red', label='loss')\n",
        "plt.scatter(i,results.history['accuracy'][i], c='orange', marker='o', label='choosen parameters')\n",
        "plt.title('Training data')\n",
        "plt.legend(loc='upper right')\n",
        "plt.show()"
      ],
      "metadata": {
        "id": "P8CLazA2Wcis"
      },
      "execution_count": null,
      "outputs": []
    },
    {
      "cell_type": "code",
      "source": [
        "fig = plt.figure()\n",
        "plt.plot(results.history['val_accuracy'], c='blue', label='val accuracy')\n",
        "plt.plot(results.history['val_loss'], c='red', label='val loss')\n",
        "plt.scatter(i,results.history['val_accuracy'][i], c='orange', marker='o', label='choosen parameters')\n",
        "plt.title('Testing data')\n",
        "plt.legend(loc='upper right')\n",
        "plt.show()"
      ],
      "metadata": {
        "id": "GPkX4uKhWfLL"
      },
      "execution_count": null,
      "outputs": []
    },
    {
      "cell_type": "code",
      "source": [
        "print(\"Macarons Sample\")\n",
        "macarons = load_img(\"/content/food-101/food-101/images/macarons/2428554.jpg\",target_size=(224,224))\n",
        "macarons"
      ],
      "metadata": {
        "id": "xGCptWd1Wh0p"
      },
      "execution_count": null,
      "outputs": []
    },
    {
      "cell_type": "code",
      "source": [
        "print(\"Pizza Sample\")\n",
        "pizza = load_img(\"/content/food-101/food-101/images/pizza/768276.jpg\",target_size=(224,224,3))\n",
        "pizza\n",
        ""
      ],
      "metadata": {
        "id": "Mgwid6qdWkdX"
      },
      "execution_count": null,
      "outputs": []
    },
    {
      "cell_type": "code",
      "source": [
        "\n",
        "print(\"Donuts Sample\")\n",
        "donuts = load_img(\"/content/food-101/food-101/images/donuts/2563686.jpg\",target_size=(224,224,3))\n",
        "donuts"
      ],
      "metadata": {
        "id": "al9P0mU3WnMn"
      },
      "execution_count": null,
      "outputs": []
    },
    {
      "cell_type": "code",
      "source": [
        "print(\"Frensh Toast Sample\")\n",
        "toast = load_img(\"/content/food-101/food-101/images/french_toast/2769309.jpg\",target_size=(224,224,3))\n",
        "toast\n",
        ""
      ],
      "metadata": {
        "id": "uAk8GOVIWqC8"
      },
      "execution_count": null,
      "outputs": []
    },
    {
      "cell_type": "code",
      "source": [
        "print(\"French_fries Sample\")\n",
        "fries = load_img(\"/content/food-101/food-101/images/french_fries/2246621.jpg\",target_size=(224,224))\n",
        "fries"
      ],
      "metadata": {
        "id": "nCQulTP2Ws-9"
      },
      "execution_count": null,
      "outputs": []
    },
    {
      "cell_type": "code",
      "source": [
        "print(\"Ice Cream Sample\")\n",
        "ice = load_img(\"/content/food-101/food-101/images/ice_cream/579407.jpg\",target_size=(224,224))\n",
        "ice"
      ],
      "metadata": {
        "id": "CrbwBQRxWvjX"
      },
      "execution_count": null,
      "outputs": []
    },
    {
      "cell_type": "code",
      "source": [
        "fig = plt.figure(figsize=(14,7))\n",
        "# plt.grid=False\n",
        "fig.add_subplot(1, 6, 1)\n",
        "plt.axis('off')\n",
        "plt.imshow(macarons)\n",
        "plt.title(\"Macarons\")\n",
        "# _____________________________________________\n",
        "fig.add_subplot(1, 6, 2)\n",
        "plt.axis('off')\n",
        "plt.imshow(fries)\n",
        "plt.title(\"Frensh Fries\")\n",
        "# _____________________________________________\n",
        "fig.add_subplot(1, 6, 3)\n",
        "plt.axis('off')\n",
        "plt.imshow(ice)\n",
        "plt.title(\"Ice Cream\")\n",
        "# _____________________________________________\n",
        "fig.add_subplot(1, 6, 4)\n",
        "plt.axis('off')\n",
        "plt.imshow(toast)\n",
        "plt.title(\"Frensh Toast\")\n",
        "# _____________________________________________\n",
        "fig.add_subplot(1, 6, 5)\n",
        "plt.axis('off')\n",
        "plt.imshow(pizza)\n",
        "plt.title(\"Pizza\")\n",
        "# _____________________________________________\n",
        "fig.add_subplot(1, 6, 6)\n",
        "plt.axis('off')\n",
        "plt.imshow(donuts)\n",
        "plt.title(\"Donuts\")"
      ],
      "metadata": {
        "id": "wA_As1T1Wx17"
      },
      "execution_count": null,
      "outputs": []
    },
    {
      "cell_type": "code",
      "source": [
        "macarons = img_to_array(macarons)\n",
        "fries = img_to_array(fries)\n",
        "ice = img_to_array(ice)\n",
        "pizza = img_to_array(pizza)\n",
        "donuts = img_to_array(donuts)\n",
        "toast = img_to_array(toast)\n",
        "macarons = macarons/255\n",
        "fries = fries/255\n",
        "ice = ice/255\n",
        "pizza = pizza/255\n",
        "donuts = donuts/255\n",
        "toast = toast/255\n",
        "macarons = macarons.reshape(1,224,224,3)\n",
        "fries = fries.reshape(1,224,224,3)\n",
        "ice = ice.reshape(1,224,224,3)\n",
        "pizza = pizza.reshape(1,224,224,3)\n",
        "donuts = donuts.reshape(1,224,224,3)\n",
        "toast = toast.reshape(1,224,224,3)\n",
        "\n",
        "macarons.shape"
      ],
      "metadata": {
        "id": "hKOHKyEhW1cO"
      },
      "execution_count": null,
      "outputs": []
    },
    {
      "cell_type": "code",
      "source": [
        "p1 = (model.predict(macarons)).argmax()\n",
        "\n",
        "print(\"Class \",p1,\": \",values[p1],sep='')\n",
        "print(calories[p1],'\\nNote:',s)"
      ],
      "metadata": {
        "id": "FASOpjCYW4xr"
      },
      "execution_count": null,
      "outputs": []
    },
    {
      "cell_type": "code",
      "source": [
        "p2 = (model.predict(fries)).argmax()\n",
        "\n",
        "print(\"Class \",p2,\": \",values[p2],sep='')\n",
        "print(calories[p2],'\\nNote:',s)"
      ],
      "metadata": {
        "id": "yMWnyIGlW6-y"
      },
      "execution_count": null,
      "outputs": []
    },
    {
      "cell_type": "code",
      "source": [
        "p3 = (model.predict(ice)).argmax()\n",
        "\n",
        "print(\"Class \",p3,\": \",values[p3],sep='')\n",
        "print(calories[p3],'\\nNote:',s)"
      ],
      "metadata": {
        "id": "hVkn3EmOW9iZ"
      },
      "execution_count": null,
      "outputs": []
    },
    {
      "cell_type": "code",
      "source": [
        "p4 = (model.predict(pizza)).argmax()\n",
        "\n",
        "print(\"Class \",p4,\": \",values[p4],sep='')\n",
        "print(calories[p4],'\\nNote:',s)"
      ],
      "metadata": {
        "id": "10ToQ3wzXCIp"
      },
      "execution_count": null,
      "outputs": []
    },
    {
      "cell_type": "code",
      "source": [
        "p5 = (model.predict(donuts)).argmax()\n",
        "\n",
        "print(\"Class \",p5,\": \",values[p5],sep='')\n",
        "print(calories[p5],'\\nNote:',s)"
      ],
      "metadata": {
        "id": "iPgOLvusXEcV"
      },
      "execution_count": null,
      "outputs": []
    },
    {
      "cell_type": "code",
      "source": [
        "p6 = (model.predict(toast)).argmax()\n",
        "\n",
        "print(\"Class \",p6,\": \",values[p6],sep='')\n",
        "print(calories[p6],'\\nNote:',s)"
      ],
      "metadata": {
        "id": "-nOsL7HwXG2y"
      },
      "execution_count": null,
      "outputs": []
    },
    {
      "cell_type": "code",
      "source": [],
      "metadata": {
        "id": "L0e2EAhIXJcw"
      },
      "execution_count": null,
      "outputs": []
    }
  ]
}